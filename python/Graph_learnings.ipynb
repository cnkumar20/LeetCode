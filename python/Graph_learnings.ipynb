{
 "cells": [
  {
   "cell_type": "code",
   "execution_count": 1,
   "id": "50a88118-0352-469e-aaf1-1826ccafc5bb",
   "metadata": {},
   "outputs": [],
   "source": [
    "class BTNode:\n",
    "    def __init__(self,val):\n",
    "        self.val = val\n",
    "        self.left = None\n",
    "        self.right = None\n",
    "    "
   ]
  },
  {
   "cell_type": "code",
   "execution_count": 2,
   "id": "e456f143-1d22-41dd-a539-a36d08671dc0",
   "metadata": {},
   "outputs": [],
   "source": [
    "btnode_obj = BTNode(1)"
   ]
  },
  {
   "cell_type": "code",
   "execution_count": 3,
   "id": "bce1c42c-4c7a-4117-b17e-14d87cc21e33",
   "metadata": {},
   "outputs": [],
   "source": [
    "from random import randint\n",
    "from random import randbytes\n",
    "from random import randrange\n",
    "import random"
   ]
  },
  {
   "cell_type": "code",
   "execution_count": 4,
   "id": "dc31eb81-074b-4a63-b0ee-dade4677c416",
   "metadata": {},
   "outputs": [
    {
     "name": "stdout",
     "output_type": "stream",
     "text": [
      "5\n"
     ]
    }
   ],
   "source": [
    "num_of_nodes = randrange(4,8)\n",
    "print(num_of_nodes)"
   ]
  },
  {
   "cell_type": "code",
   "execution_count": 5,
   "id": "40dc203e-d2ec-420b-aca6-ae813f287e3f",
   "metadata": {},
   "outputs": [
    {
     "name": "stdout",
     "output_type": "stream",
     "text": [
      "14\n"
     ]
    }
   ],
   "source": [
    "num_of_edges = randint(10,20)\n",
    "print(num_of_edges)\n",
    "binary_tree_num_of_edges = 2"
   ]
  },
  {
   "cell_type": "code",
   "execution_count": 6,
   "id": "14f0bb7b-bfcf-4c0e-93f4-064d4accc08d",
   "metadata": {},
   "outputs": [],
   "source": [
    "import numpy as np\n"
   ]
  },
  {
   "cell_type": "code",
   "execution_count": 8,
   "id": "35b4265a-a21b-441c-adcd-68e492569b7c",
   "metadata": {},
   "outputs": [],
   "source": [
    "def create_from_nodes_edges_random_matrix(nodes=10):\n",
    "    matrix1 = np.zeros((nodes,nodes))\n",
    "    return matrix1\n"
   ]
  },
  {
   "cell_type": "code",
   "execution_count": 9,
   "id": "bedc52a5-6e9e-4c18-beda-5f99bd366b10",
   "metadata": {},
   "outputs": [
    {
     "name": "stdout",
     "output_type": "stream",
     "text": [
      "[[0. 0. 0. 0. 0.]\n",
      " [0. 0. 0. 0. 0.]\n",
      " [0. 0. 0. 0. 0.]\n",
      " [0. 0. 0. 0. 0.]\n",
      " [0. 0. 0. 0. 0.]]\n"
     ]
    }
   ],
   "source": [
    "mat1 = create_from_nodes_edges_random_matrix(nodes=num_of_nodes)\n",
    "print(mat1)"
   ]
  },
  {
   "cell_type": "code",
   "execution_count": 10,
   "id": "a11f02ee-da81-4ee7-91d2-958dd8eee3c8",
   "metadata": {},
   "outputs": [],
   "source": [
    "def add_random_bits_of_len_n_by_n_rows_total_edges_add_target(mat):\n",
    "    shape = mat.shape\n",
    "    return shape"
   ]
  },
  {
   "cell_type": "code",
   "execution_count": 11,
   "id": "00b91229-288e-43d9-9d98-c473b5ac6866",
   "metadata": {},
   "outputs": [
    {
     "name": "stdout",
     "output_type": "stream",
     "text": [
      "(5, 5)\n"
     ]
    }
   ],
   "source": [
    "shape = add_random_bits_of_len_n_by_n_rows_total_edges_add_target(mat1)\n",
    "print(shape)"
   ]
  },
  {
   "cell_type": "code",
   "execution_count": 12,
   "id": "a2255192-734d-4df5-ab22-6b6a8b498a30",
   "metadata": {},
   "outputs": [],
   "source": [
    "def algo_for_creating_random_list_for_ad_directed_graph(number_of_edges,zero_mat):\n",
    "    r,c = zero_mat.shape\n",
    "    mat = zero_mat\n",
    "    i=0\n",
    "    collision = 0\n",
    "    while(i < number_of_edges):\n",
    "        r1 = randrange(r)\n",
    "        c1 = randrange(c)\n",
    "        if(mat[r1][c1]==1):\n",
    "            collision +=1\n",
    "            continue\n",
    "        else:\n",
    "            mat[r1][c1] = 1\n",
    "            i +=1\n",
    "    print(f\"Collision: {collision}\")\n",
    "    return mat            "
   ]
  },
  {
   "cell_type": "code",
   "execution_count": 13,
   "id": "0cb741a1-c104-4f41-91c2-cc1f846cacdb",
   "metadata": {},
   "outputs": [
    {
     "name": "stdout",
     "output_type": "stream",
     "text": [
      "Collision: 4\n"
     ]
    }
   ],
   "source": [
    "graph_matrix = algo_for_creating_random_list_for_ad_directed_graph(number_of_edges=num_of_edges,zero_mat=mat1.copy())"
   ]
  },
  {
   "cell_type": "code",
   "execution_count": 14,
   "id": "225c0c1a-7be3-4f24-b063-ec18fa6f9fdd",
   "metadata": {},
   "outputs": [
    {
     "name": "stdout",
     "output_type": "stream",
     "text": [
      "[[0. 1. 1. 1. 1.]\n",
      " [0. 0. 0. 0. 1.]\n",
      " [0. 1. 1. 1. 0.]\n",
      " [0. 0. 0. 0. 1.]\n",
      " [1. 1. 1. 1. 1.]]\n"
     ]
    }
   ],
   "source": [
    "print(graph_matrix)"
   ]
  },
  {
   "cell_type": "code",
   "execution_count": 15,
   "id": "5beacbbd-32f6-40dd-8309-88b0c8b9f5d0",
   "metadata": {},
   "outputs": [],
   "source": [
    "node_label = random.sample(['A','B','C','D','E','F','G','H','I','J','K','L','M','N','O','P','Q','R','S','T','U','V','W','X','Y','Z'],num_of_nodes)"
   ]
  },
  {
   "cell_type": "code",
   "execution_count": 16,
   "id": "19a46bdb-fd48-436b-bdeb-0ed49105ecaa",
   "metadata": {},
   "outputs": [
    {
     "name": "stdout",
     "output_type": "stream",
     "text": [
      "['S', 'U', 'B', 'X', 'N']\n"
     ]
    }
   ],
   "source": [
    "print(node_label)"
   ]
  },
  {
   "cell_type": "code",
   "execution_count": 17,
   "id": "2b7703cd-c234-48ab-9f29-7a9eaacdfc1b",
   "metadata": {},
   "outputs": [
    {
     "name": "stdout",
     "output_type": "stream",
     "text": [
      "{'S': {'X', 'N', 'B', 'U'}, 'U': {'N'}, 'B': {'X', 'B', 'U'}, 'X': {'N'}, 'N': {'B', 'X', 'U', 'N', 'S'}}\n"
     ]
    }
   ],
   "source": [
    "#convert matrix to adjaceny list using node_label\n",
    "\n",
    "def convert_directed(mat):\n",
    "    dict_map = {}\n",
    "    for label in node_label:\n",
    "        dict_map[label] = set()\n",
    "    for r in range(len(mat)):\n",
    "        adj_list = dict_map[node_label[r]]\n",
    "        for c in range(len(mat[0])):\n",
    "            if(mat[r][c] == 1):\n",
    "                adj_list.add(node_label[c])\n",
    "    return dict_map\n",
    "\n",
    "\n",
    "adj_list_directed = convert_directed(graph_matrix)\n",
    "print(adj_list_directed)\n",
    "\n",
    "\n",
    "            \n",
    "                \n",
    "    "
   ]
  },
  {
   "cell_type": "code",
   "execution_count": 18,
   "id": "9e949345-a9cb-4976-be9b-55b50907d7fc",
   "metadata": {},
   "outputs": [],
   "source": [
    "#create undirected graph\n",
    "number_of_nodes = len(node_label)\n",
    "max_number_of_edges = int(number_of_nodes*(number_of_nodes -1)/2)\n",
    "number_of_edges = randrange(number_of_nodes,max_number_of_edges+1)\n",
    "def algo_for_creating_random_list_for_ad_undirected_graph(number_of_edges,zero_mat):\n",
    "    r,c = zero_mat.shape\n",
    "    mat = zero_mat\n",
    "    i=0\n",
    "    collision = 0\n",
    "    while(i < number_of_edges):\n",
    "        r1 = randrange(r)\n",
    "        c1 = randrange(c)\n",
    "        if(c1==r1):\n",
    "            collision += 1\n",
    "            continue\n",
    "        if(mat[r1][c1]==1 and mat[c1][r1]==1):\n",
    "            collision +=1\n",
    "            continue\n",
    "        else:\n",
    "            mat[r1][c1] = 1\n",
    "            mat[c1][r1] = 1\n",
    "            i +=1\n",
    "    print(f\"Collision: {collision}\")\n",
    "    return mat    "
   ]
  },
  {
   "cell_type": "code",
   "execution_count": 19,
   "id": "d000f487-33be-4b16-8f5b-25a68a0ac450",
   "metadata": {},
   "outputs": [
    {
     "name": "stdout",
     "output_type": "stream",
     "text": [
      "Collision: 10\n"
     ]
    }
   ],
   "source": [
    "undirected = algo_for_creating_random_list_for_ad_undirected_graph(number_of_edges,mat1.copy())"
   ]
  },
  {
   "cell_type": "code",
   "execution_count": 20,
   "id": "8cffcf44-d7c5-4af7-bec7-6ae2927214cc",
   "metadata": {},
   "outputs": [
    {
     "name": "stdout",
     "output_type": "stream",
     "text": [
      "[[0. 1. 0. 1. 0.]\n",
      " [1. 0. 0. 1. 1.]\n",
      " [0. 0. 0. 1. 0.]\n",
      " [1. 1. 1. 0. 1.]\n",
      " [0. 1. 0. 1. 0.]]\n"
     ]
    }
   ],
   "source": [
    "print(undirected)"
   ]
  },
  {
   "cell_type": "code",
   "execution_count": 21,
   "id": "b6e9aba8-0f2c-4f16-b715-abdb4d08e2f2",
   "metadata": {},
   "outputs": [
    {
     "name": "stdout",
     "output_type": "stream",
     "text": [
      "{'S': {'X', 'U'}, 'U': {'S', 'N', 'X'}, 'B': {'X'}, 'X': {'S', 'N', 'B', 'U'}, 'N': {'X', 'U'}}\n"
     ]
    }
   ],
   "source": [
    "undirected_adj_list = convert_directed(undirected)\n",
    "print(undirected_adj_list)"
   ]
  },
  {
   "cell_type": "code",
   "execution_count": 22,
   "id": "72f1f253-a9bc-41e2-82be-0ff209edefcd",
   "metadata": {},
   "outputs": [],
   "source": [
    "import networkx as nw"
   ]
  },
  {
   "cell_type": "code",
   "execution_count": 23,
   "id": "8a981cd0-121d-47f9-8c1c-83f2a8a492a5",
   "metadata": {},
   "outputs": [],
   "source": [
    "graph = nw.Graph(undirected_adj_list)"
   ]
  },
  {
   "cell_type": "code",
   "execution_count": 24,
   "id": "f67db4bd-cfe7-459c-83b1-0c7df4f63752",
   "metadata": {},
   "outputs": [
    {
     "name": "stdout",
     "output_type": "stream",
     "text": [
      "Graph with 5 nodes and 6 edges\n"
     ]
    }
   ],
   "source": [
    "print(graph)"
   ]
  },
  {
   "cell_type": "code",
   "execution_count": 25,
   "id": "928dc692-f08a-48e9-a0ab-430265b43b1f",
   "metadata": {},
   "outputs": [
    {
     "name": "stdout",
     "output_type": "stream",
     "text": [
      "Nodes: ['S', 'U', 'B', 'X', 'N']\n",
      "Edges: [('S', 'X'), ('S', 'U'), ('U', 'N'), ('U', 'X'), ('B', 'X'), ('X', 'N')]\n"
     ]
    }
   ],
   "source": [
    "print(\"Nodes:\", graph.nodes())\n",
    "print(\"Edges:\", graph.edges())"
   ]
  },
  {
   "cell_type": "code",
   "execution_count": 26,
   "id": "48ac6d42-425e-46bf-a592-ee2113138b8d",
   "metadata": {},
   "outputs": [
    {
     "data": {
      "image/png": "[encoded data removed]",
      "text/plain": [
       "<Figure size 640x480 with 1 Axes>"
      ]
     },
     "metadata": {},
     "output_type": "display_data"
    }
   ],
   "source": [
    "nw.draw_networkx(graph)"
   ]
  },
  {
   "cell_type": "code",
   "execution_count": 27,
   "id": "84a7e2ad-4ee2-4e60-8454-bbf455e0af8b",
   "metadata": {},
   "outputs": [
    {
     "data": {
      "image/png": "[encoded data removed]",
      "text/plain": [
       "<Figure size 640x480 with 1 Axes>"
      ]
     },
     "metadata": {},
     "output_type": "display_data"
    }
   ],
   "source": [
    "nw.draw_kamada_kawai(graph)"
   ]
  },
  {
   "cell_type": "code",
   "execution_count": 28,
   "id": "b86a9786-abcf-4d0a-bf32-2a171090dbae",
   "metadata": {},
   "outputs": [
    {
     "data": {
      "image/png": "[encoded data removed]",
      "text/plain": [
       "<Figure size 640x480 with 1 Axes>"
      ]
     },
     "metadata": {},
     "output_type": "display_data"
    }
   ],
   "source": [
    "pos = nw.spring_layout(graph)\n",
    "nw.draw(graph, pos, with_labels=True, node_color='lightblue', node_size=1000, font_weight='bold')"
   ]
  },
  {
   "cell_type": "code",
   "execution_count": 143,
   "id": "04fde31a-5b71-4993-90ae-c647bb9c5cb0",
   "metadata": {},
   "outputs": [
    {
     "name": "stdout",
     "output_type": "stream",
     "text": [
      "[41, 88, 16, 33, 50, 66, 14, 63, 86, 37]\n"
     ]
    }
   ],
   "source": [
    "#Binary Tree\n",
    "import random\n",
    "class BTNode:\n",
    "    def __init__(self,val):\n",
    "        self.val = val\n",
    "        self.left = None\n",
    "        self.right = None\n",
    "random_list = random.sample(range(10,100), 10)\n",
    "\n",
    "print(random_list)\n",
    "\n",
    "def insert_node(root,node):\n",
    "    if root is None:\n",
    "         return node\n",
    "    else:\n",
    "        if root.val < node.val:\n",
    "            if(root.right is not None): \n",
    "                insert_node(root.right,node)\n",
    "            else:\n",
    "                root.right = node\n",
    "        else:\n",
    "            if(root.left is not None): \n",
    "                insert_node(root.left,node)\n",
    "            else:\n",
    "                root.left = node\n",
    "            \n",
    "def createTree_BST(random_list):\n",
    "    root = None\n",
    "    node = None\n",
    "    for elem in random_list:\n",
    "        node = BTNode(elem)\n",
    "        if(root is None):\n",
    "            root = node\n",
    "        else:\n",
    "            insert_node(root,node)\n",
    "    return root\n",
    "\n",
    "tree_root_1 = createTree_BST(random_list)\n",
    "\n",
    "from collections import deque\n",
    "\n",
    "def LevelOrderTraversal(root,node):\n",
    "    queue = deque([root])\n",
    "    while queue:\n",
    "        node_cur = queue.popleft()\n",
    "        lnode = node_cur.left\n",
    "        rnode = node_cur.right\n",
    "        if lnode is None:\n",
    "            node_cur.left = node\n",
    "            break\n",
    "        else:\n",
    "            queue.append(lnode)\n",
    "        if rnode is None:\n",
    "            node_cur.right = node\n",
    "            break\n",
    "        else:\n",
    "            queue.append(rnode)\n",
    "            \n",
    "\n",
    "        \n",
    "def createTreeByLevelInsertion(list1):\n",
    "    root = None\n",
    "    for elem in list1:\n",
    "        node = BTNode(elem)\n",
    "        if root is None:\n",
    "            root = node\n",
    "        else:\n",
    "            LevelOrderTraversal(root,node)\n",
    "    return root\n",
    "            \n",
    "        \n",
    "\n",
    "\n",
    "\n",
    "    \n",
    "tree_root_2 = createTreeByLevelInsertion(random_list)\n"
   ]
  },
  {
   "cell_type": "code",
   "execution_count": 147,
   "id": "702a6818-aadb-4854-b37d-1f13e0a640d2",
   "metadata": {},
   "outputs": [
    {
     "name": "stdout",
     "output_type": "stream",
     "text": [
      "41\n",
      "16\n",
      "14\n",
      "33\n",
      "37\n",
      "88\n",
      "50\n",
      "66\n",
      "63\n",
      "86\n"
     ]
    }
   ],
   "source": [
    "\n",
    "def preorder(root):\n",
    "    if root is  None:\n",
    "        return\n",
    "    print(root.val)\n",
    "    preorder(root.left)\n",
    "    preorder(root.right)\n",
    "\n",
    "def inorder(root):\n",
    "    if root is  None:\n",
    "        return\n",
    "    inorder(root.left)\n",
    "    print(root.val)\n",
    "    inorder(root.right)\n",
    "\n",
    "def postorder(root):\n",
    "    if root is  None:\n",
    "        return\n",
    "    postorder(root.left)\n",
    "    postorder(root.right)\n",
    "    print(root.val)\n",
    "\n",
    "preorder(tree_root_1)\n",
    "\n"
   ]
  },
  {
   "cell_type": "code",
   "execution_count": 148,
   "id": "de932bfc-36fe-4939-a969-7c67147a7064",
   "metadata": {},
   "outputs": [
    {
     "name": "stdout",
     "output_type": "stream",
     "text": [
      "14\n",
      "16\n",
      "33\n",
      "37\n",
      "41\n",
      "50\n",
      "63\n",
      "66\n",
      "86\n",
      "88\n"
     ]
    }
   ],
   "source": [
    "inorder(tree_root_1)"
   ]
  },
  {
   "cell_type": "code",
   "execution_count": 149,
   "id": "9941fe2f-5b80-47b6-b19e-ef183fad425d",
   "metadata": {},
   "outputs": [
    {
     "name": "stdout",
     "output_type": "stream",
     "text": [
      "41\n",
      "88\n",
      "33\n",
      "63\n",
      "86\n",
      "50\n",
      "37\n",
      "16\n",
      "66\n",
      "14\n"
     ]
    }
   ],
   "source": [
    "preorder(tree_root_2)"
   ]
  },
  {
   "cell_type": "code",
   "execution_count": 138,
   "id": "728d0c52-da52-4967-9781-4a22f96df288",
   "metadata": {},
   "outputs": [
    {
     "name": "stdout",
     "output_type": "stream",
     "text": [
      "67\n",
      "80\n",
      "27\n",
      "79\n",
      "42\n",
      "35\n",
      "63\n",
      "22\n",
      "91\n",
      "73\n"
     ]
    }
   ],
   "source": [
    "inorder(tree_root_2)"
   ]
  },
  {
   "cell_type": "code",
   "execution_count": null,
   "id": "c09147ab-4a65-4d2e-89d4-5ca54b95a852",
   "metadata": {},
   "outputs": [],
   "source": [
    "#lowest common ancestor of a binary tree"
   ]
  },
  {
   "cell_type": "code",
   "execution_count": null,
   "id": "10ec0dd0-77ee-409a-87b1-d9fbaf06337d",
   "metadata": {},
   "outputs": [],
   "source": []
  }
 ],
 "metadata": {
  "kernelspec": {
   "display_name": "Python 3 (ipykernel)",
   "language": "python",
   "name": "python3"
  },
  "language_info": {
   "codemirror_mode": {
    "name": "ipython",
    "version": 3
   },
   "file_extension": ".py",
   "mimetype": "text/x-python",
   "name": "python",
   "nbconvert_exporter": "python",
   "pygments_lexer": "ipython3",
   "version": "3.12.9"
  }
 },
 "nbformat": 4,
 "nbformat_minor": 5
}
